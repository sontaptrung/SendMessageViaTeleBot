{
 "cells": [
  {
   "cell_type": "code",
   "execution_count": 4,
   "metadata": {},
   "outputs": [],
   "source": [
    "import requests\n",
    "def sendPhoto(token, chat_id, cap, file):\n",
    "    r = requests.post(\"https://api.telegram.org/bot{}/sendPhoto?chat_id={}&caption={}\".format(token, chat_id, cap), files=file)\n",
    "    print(r.status_code, r.reason)\n",
    "\n",
    "def sendText(token, chat_id, text):\n",
    "    r = requests.post(\"https://api.telegram.org/bot{}/sendMessage?chat_id={}&text={}\".format(token, chat_id, text))\n",
    "    print(r.status_code, r.reason)\n",
    "\n",
    "def sendVideo(token, chat_id, cap, file):\n",
    "    r = requests.post(\"https://api.telegram.org/bot{}/sendVideo?chat_id={}&caption={}\".format(token, chat_id, cap), files=file)\n",
    "    print(r.status_code, r.reason)\n",
    "\n",
    "def sendAudio(token, chat_id, cap, file):\n",
    "    r = requests.post(\"https://api.telegram.org/bot{}/sendAudio?chat_id={}&caption={}\".format(token, chat_id, cap), files=file)\n",
    "    print(r.status_code, r.reason)\n",
    "\n",
    "def sendDocument(token, chat_id, cap, file):\n",
    "    r = requests.post(\"https://api.telegram.org/bot{}/sendDocument?chat_id={}&caption={}\".format(token, chat_id, cap), files=file)\n",
    "    print(r.status_code, r.reason)\n",
    "\n",
    "def sendSticker(token, chat_id, file):\n",
    "    r = requests.post(\"https://api.telegram.org/bot{}/sendSticker?chat_id={}\".format(token, chat_id), files=file)\n",
    "    print(r.status_code, r.reason)\n",
    "\n",
    "def sendVoice(token, chat_id, cap, file):\n",
    "    r = requests.post(\"https://api.telegram.org/bot{}/sendVoice?chat_id={}&caption={}\".format(token, chat_id, cap), files=file)\n",
    "    print(r.status_code, r.reason)\n",
    "\n",
    "def sendLocation(token, chat_id, lat, lon):\n",
    "    r = requests.post(\"https://api.telegram.org/bot{}/sendLocation?chat_id={}&latitude={}&longitude={}\".format(token, chat_id, lat, lon))\n",
    "    print(r.status_code, r.reason)\n"
   ]
  },
  {
   "cell_type": "code",
   "execution_count": 5,
   "metadata": {},
   "outputs": [
    {
     "name": "stdout",
     "output_type": "stream",
     "text": [
      "200 OK\n"
     ]
    }
   ],
   "source": [
    "\n",
    "\n",
    "file = {'photo': open('D:\\\\AI1606\\\\SendMessageViaTeleBot\\\\LongVu.png', 'rb')}\n",
    "cap = \"Long Vu Dz\"\n",
    "bot_token = ''\n",
    "chat_id = ''\n",
    "sendPhoto(bot_token, chat_id, cap, file)"
   ]
  }
 ],
 "metadata": {
  "kernelspec": {
   "display_name": "Python 3",
   "language": "python",
   "name": "python3"
  },
  "language_info": {
   "codemirror_mode": {
    "name": "ipython",
    "version": 3
   },
   "file_extension": ".py",
   "mimetype": "text/x-python",
   "name": "python",
   "nbconvert_exporter": "python",
   "pygments_lexer": "ipython3",
   "version": "3.10.5"
  },
  "orig_nbformat": 4
 },
 "nbformat": 4,
 "nbformat_minor": 2
}
