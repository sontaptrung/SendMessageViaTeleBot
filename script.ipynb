{
 "cells": [
  {
   "cell_type": "code",
   "execution_count": 7,
   "metadata": {},
   "outputs": [
    {
     "name": "stdout",
     "output_type": "stream",
     "text": [
      "200 OK\n"
     ]
    }
   ],
   "source": [
    "import requests\n",
    "file = {'photo': open('C:\\\\Users\\\\ADMIN\\\\Desktop\\\\TestAPITele\\\\dickhead.png', 'rb')}\n",
    "\n",
    "cap = \"Long Vu Dau Cac\"\n",
    "\n",
    "r = requests.post(\"https://api.telegram.org/bot6169099588:AAHFph2dMsDJnszbvUkjM8sRUghgLmR4Ui0/sendPhoto?chat_id=-956342178&caption={}\".format(cap), files=file)\n",
    "print(r.status_code, r.reason)"
   ]
  }
 ],
 "metadata": {
  "kernelspec": {
   "display_name": "Python 3",
   "language": "python",
   "name": "python3"
  },
  "language_info": {
   "codemirror_mode": {
    "name": "ipython",
    "version": 3
   },
   "file_extension": ".py",
   "mimetype": "text/x-python",
   "name": "python",
   "nbconvert_exporter": "python",
   "pygments_lexer": "ipython3",
   "version": "3.10.5"
  },
  "orig_nbformat": 4
 },
 "nbformat": 4,
 "nbformat_minor": 2
}
